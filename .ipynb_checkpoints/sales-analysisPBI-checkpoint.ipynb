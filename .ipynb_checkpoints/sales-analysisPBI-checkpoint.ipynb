{
 "cells": [
  {
   "cell_type": "code",
   "execution_count": 1,
   "id": "d21a99e1-5b71-4eed-941c-140f5ec4b983",
   "metadata": {},
   "outputs": [
    {
     "name": "stdout",
     "output_type": "stream",
     "text": [
      "<class 'pandas.core.frame.DataFrame'>\n",
      "RangeIndex: 100000 entries, 0 to 99999\n",
      "Data columns (total 9 columns):\n",
      " #   Column         Non-Null Count   Dtype  \n",
      "---  ------         --------------   -----  \n",
      " 0   Order ID       100000 non-null  object \n",
      " 1   Order Date     100000 non-null  object \n",
      " 2   Region         100000 non-null  object \n",
      " 3   Customer       100000 non-null  object \n",
      " 4   Product        100000 non-null  object \n",
      " 5   Quantity Sold  100000 non-null  int64  \n",
      " 6   Unit Price     100000 non-null  float64\n",
      " 7   Discount       100000 non-null  float64\n",
      " 8   Total Sales    100000 non-null  float64\n",
      "dtypes: float64(3), int64(1), object(5)\n",
      "memory usage: 6.9+ MB\n",
      "None\n",
      "    Order ID  Order Date         Region      Customer   Product  \\\n",
      "0  ORD000001  2022-05-10  South America  Customer_454     Mouse   \n",
      "1  ORD000002  2022-12-31         Africa  Customer_367    Tablet   \n",
      "2  ORD000003  2022-11-10         Europe  Customer_224     Mouse   \n",
      "3  ORD000004  2020-05-01  South America  Customer_356  Keyboard   \n",
      "4  ORD000005  2021-04-11         Africa  Customer_484    Laptop   \n",
      "\n",
      "   Quantity Sold  Unit Price  Discount  Total Sales  \n",
      "0              3     1114.01      0.08      3074.67  \n",
      "1              3     1359.37      0.13      3547.96  \n",
      "2              5     1219.09      0.14      5242.09  \n",
      "3              1     1398.72      0.02      1370.75  \n",
      "4              2      508.38      0.19       823.58  \n"
     ]
    }
   ],
   "source": [
    "import pandas as pd\n",
    "\n",
    "file_path = \"sales_data.csv\"\n",
    "sales_df = pd.read_csv(file_path)\n",
    "\n",
    "print(sales_df.info())\n",
    "print(sales_df.head())"
   ]
  },
  {
   "cell_type": "code",
   "execution_count": 5,
   "id": "ffd3f957-7242-4342-bd1f-e490073093df",
   "metadata": {},
   "outputs": [
    {
     "name": "stdout",
     "output_type": "stream",
     "text": [
      "Order ID         0\n",
      "Order Date       0\n",
      "Region           0\n",
      "Customer         0\n",
      "Product          0\n",
      "Quantity Sold    0\n",
      "Unit Price       0\n",
      "Discount         0\n",
      "Total Sales      0\n",
      "dtype: int64\n"
     ]
    }
   ],
   "source": [
    "print(sales_df.isnull().sum())"
   ]
  },
  {
   "cell_type": "code",
   "execution_count": 7,
   "id": "288b7187-52c7-477e-aecc-edcb84f1d00d",
   "metadata": {},
   "outputs": [
    {
     "name": "stdout",
     "output_type": "stream",
     "text": [
      "       Quantity Sold     Unit Price       Discount    Total Sales\n",
      "count  100000.000000  100000.000000  100000.000000  100000.000000\n",
      "mean        4.995680    1024.405232       0.150314    4350.368520\n",
      "std         2.573085     562.648405       0.086542    3545.723237\n",
      "min         1.000000      50.060000       0.000000      35.940000\n",
      "25%         3.000000     538.547500       0.080000    1437.812500\n",
      "50%         5.000000    1025.550000       0.150000    3358.545000\n",
      "75%         7.000000    1511.180000       0.230000    6473.985000\n",
      "max         9.000000    1999.970000       0.300000   17882.550000\n"
     ]
    }
   ],
   "source": [
    "print(sales_df.describe())"
   ]
  },
  {
   "cell_type": "code",
   "execution_count": 11,
   "id": "9b5d7ecb-286f-4755-9c90-1a0fd311bcc1",
   "metadata": {},
   "outputs": [
    {
     "name": "stdout",
     "output_type": "stream",
     "text": [
      "Duplicates: 0\n"
     ]
    }
   ],
   "source": [
    "print(\"Duplicates:\", sales_df.duplicated().sum())"
   ]
  },
  {
   "cell_type": "code",
   "execution_count": 13,
   "id": "a448e9dd-4eda-412b-9d86-07dbc2ee4b57",
   "metadata": {},
   "outputs": [],
   "source": [
    "sales_df = sales_df.drop_duplicates()"
   ]
  },
  {
   "cell_type": "code",
   "execution_count": 15,
   "id": "c89c832b-1906-40dd-b12b-dd574e9cc04b",
   "metadata": {},
   "outputs": [],
   "source": [
    "region_sales = sales_df.groupby(\"Region\")[\"Total Sales\"].sum().sort_values(ascending=False)"
   ]
  },
  {
   "cell_type": "code",
   "execution_count": 18,
   "id": "f47312d9-fcaf-437e-ae4d-d61968a350c1",
   "metadata": {},
   "outputs": [
    {
     "name": "stdout",
     "output_type": "stream",
     "text": [
      "Region\n",
      "Europe           74236920.71\n",
      "Australia        72672996.17\n",
      "Africa           72384080.41\n",
      "Asia             72180746.62\n",
      "South America    72044500.06\n",
      "North America    71517608.06\n",
      "Name: Total Sales, dtype: float64\n"
     ]
    }
   ],
   "source": [
    "print(region_sales)"
   ]
  },
  {
   "cell_type": "code",
   "execution_count": 20,
   "id": "6a664e95-0e56-4a6a-889d-7f1ac3dc5ec5",
   "metadata": {},
   "outputs": [],
   "source": [
    "top_products = sales_df.groupby(\"Product\")[\"Total Sales\"].sum().sort_values(ascending=False).head(5)"
   ]
  },
  {
   "cell_type": "code",
   "execution_count": 22,
   "id": "0e4acb32-85e1-445e-ac09-a7dc65737a80",
   "metadata": {},
   "outputs": [
    {
     "name": "stdout",
     "output_type": "stream",
     "text": [
      "Product\n",
      "Tablet        63031707.98\n",
      "Laptop        62456892.78\n",
      "Keyboard      62241290.56\n",
      "Smartphone    62121163.57\n",
      "Headphones    61762935.36\n",
      "Name: Total Sales, dtype: float64\n"
     ]
    }
   ],
   "source": [
    "print(top_products)"
   ]
  }
 ],
 "metadata": {
  "kernelspec": {
   "display_name": "Python [conda env:base] *",
   "language": "python",
   "name": "conda-base-py"
  },
  "language_info": {
   "codemirror_mode": {
    "name": "ipython",
    "version": 3
   },
   "file_extension": ".py",
   "mimetype": "text/x-python",
   "name": "python",
   "nbconvert_exporter": "python",
   "pygments_lexer": "ipython3",
   "version": "3.12.7"
  }
 },
 "nbformat": 4,
 "nbformat_minor": 5
}
